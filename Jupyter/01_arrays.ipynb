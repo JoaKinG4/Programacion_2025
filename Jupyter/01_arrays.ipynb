{
  "nbformat": 4,
  "nbformat_minor": 0,
  "metadata": {
    "colab": {
      "provenance": [],
      "collapsed_sections": [
        "U7T4g6FGwdrA"
      ],
      "toc_visible": true
    },
    "kernelspec": {
      "name": "python3",
      "display_name": "Python 3"
    },
    "language_info": {
      "name": "python"
    }
  },
  "cells": [
    {
      "cell_type": "markdown",
      "source": [],
      "metadata": {
        "id": "doyEuEjYc09U"
      }
    },
    {
      "cell_type": "markdown",
      "source": [
        "####**IMPORTANDO LIBRERIA NUMPY**"
      ],
      "metadata": {
        "id": "GnKHYZNlhS61"
      }
    },
    {
      "cell_type": "code",
      "execution_count": null,
      "metadata": {
        "id": "6mEMKZBlcxIy"
      },
      "outputs": [],
      "source": [
        "import numpy as np # el np es un alias del nombre de la biblioteca numpy\n",
        "import sys # este paquete maneja funciones de sistema"
      ]
    },
    {
      "cell_type": "markdown",
      "source": [
        "**CREANDO LISTA DE 10 ELEMENTOS**"
      ],
      "metadata": {
        "id": "kheLPuCphXw8"
      }
    },
    {
      "cell_type": "code",
      "source": [
        "lista1 = list(range(1,11))\n",
        "lista1"
      ],
      "metadata": {
        "colab": {
          "base_uri": "https://localhost:8080/"
        },
        "id": "BMnvEVLjhNHN",
        "outputId": "aadf8380-a9df-4a8a-e28f-f1278ab1666e"
      },
      "execution_count": null,
      "outputs": [
        {
          "output_type": "execute_result",
          "data": {
            "text/plain": [
              "[1, 2, 3, 4, 5, 6, 7, 8, 9, 10]"
            ]
          },
          "metadata": {},
          "execution_count": 40
        }
      ]
    },
    {
      "cell_type": "markdown",
      "source": [
        "#### Consulta el tipo de dato"
      ],
      "metadata": {
        "id": "71oKzG5ItJ21"
      }
    },
    {
      "cell_type": "code",
      "source": [
        "type(lista1)"
      ],
      "metadata": {
        "colab": {
          "base_uri": "https://localhost:8080/"
        },
        "id": "qTzN_z0EtL99",
        "outputId": "221073e0-fee5-4604-dcea-d00b0089a5cc"
      },
      "execution_count": null,
      "outputs": [
        {
          "output_type": "execute_result",
          "data": {
            "text/plain": [
              "list"
            ]
          },
          "metadata": {},
          "execution_count": 41
        }
      ]
    },
    {
      "cell_type": "markdown",
      "source": [
        "**TRANSFORMANDO UNA LISTA A UN ARRAY**\n",
        "Recordar que un 'array' es una estructura propia de la libreria numpy"
      ],
      "metadata": {
        "id": "ht0kO-lYheaj"
      }
    },
    {
      "cell_type": "code",
      "source": [
        "arreglo = np.array(lista1)\n",
        "arreglo"
      ],
      "metadata": {
        "colab": {
          "base_uri": "https://localhost:8080/"
        },
        "id": "t0hjN3lvhicU",
        "outputId": "93109f8b-e6db-4fce-8be0-1dc7dc0c94ed"
      },
      "execution_count": null,
      "outputs": [
        {
          "output_type": "execute_result",
          "data": {
            "text/plain": [
              "array([ 1,  2,  3,  4,  5,  6,  7,  8,  9, 10])"
            ]
          },
          "metadata": {},
          "execution_count": 42
        }
      ]
    },
    {
      "cell_type": "markdown",
      "source": [
        "#### Consultando el tipo de dato numerico del arreglo"
      ],
      "metadata": {
        "id": "SQQR0nBGuF-7"
      }
    },
    {
      "cell_type": "code",
      "source": [
        "arreglo.dtype"
      ],
      "metadata": {
        "colab": {
          "base_uri": "https://localhost:8080/"
        },
        "id": "oy13z8cfuDXT",
        "outputId": "0fe53041-2047-4ebf-e3b0-5fb9a9ef8a02"
      },
      "execution_count": null,
      "outputs": [
        {
          "output_type": "execute_result",
          "data": {
            "text/plain": [
              "dtype('int64')"
            ]
          },
          "metadata": {},
          "execution_count": 43
        }
      ]
    },
    {
      "cell_type": "markdown",
      "source": [
        "#### Crear una lista de solo numeros unos"
      ],
      "metadata": {
        "id": "X291lf9tqzhQ"
      }
    },
    {
      "cell_type": "code",
      "source": [
        "unos = np.ones(10)\n",
        "unos"
      ],
      "metadata": {
        "colab": {
          "base_uri": "https://localhost:8080/"
        },
        "id": "XSx0CUPzretg",
        "outputId": "32f0f689-00c0-4508-ae72-5720b96c7bcb"
      },
      "execution_count": null,
      "outputs": [
        {
          "output_type": "execute_result",
          "data": {
            "text/plain": [
              "array([1., 1., 1., 1., 1., 1., 1., 1., 1., 1.])"
            ]
          },
          "metadata": {},
          "execution_count": 44
        }
      ]
    },
    {
      "cell_type": "markdown",
      "source": [
        "#### Creando una lista de solo numeros ceros"
      ],
      "metadata": {
        "id": "61489blevCBJ"
      }
    },
    {
      "cell_type": "code",
      "source": [
        "ceros = np.zeros(10)\n",
        "ceros"
      ],
      "metadata": {
        "colab": {
          "base_uri": "https://localhost:8080/"
        },
        "id": "J3xuyVvfu_nr",
        "outputId": "315bb15e-2a48-491d-b8ba-bd0cf5ae9ee6"
      },
      "execution_count": null,
      "outputs": [
        {
          "output_type": "execute_result",
          "data": {
            "text/plain": [
              "array([0., 0., 0., 0., 0., 0., 0., 0., 0., 0.])"
            ]
          },
          "metadata": {},
          "execution_count": 45
        }
      ]
    },
    {
      "cell_type": "markdown",
      "source": [
        "#### Transformando la lista mixta en array"
      ],
      "metadata": {
        "id": "TyMlTvHYvqah"
      }
    },
    {
      "cell_type": "code",
      "source": [
        "arreglo2 = np.array(lista2)\n",
        "arreglo2"
      ],
      "metadata": {
        "colab": {
          "base_uri": "https://localhost:8080/"
        },
        "id": "fLGGDqjCvtKw",
        "outputId": "8cb1e466-2996-4afd-d73c-cf315afeb491"
      },
      "execution_count": null,
      "outputs": [
        {
          "output_type": "execute_result",
          "data": {
            "text/plain": [
              "array(['Victor', '2', '5', '6', 'True'], dtype='<U21')"
            ]
          },
          "metadata": {},
          "execution_count": 46
        }
      ]
    },
    {
      "cell_type": "markdown",
      "source": [
        "#### Lista de Datos Compuestos (Transformando a Array)"
      ],
      "metadata": {
        "id": "da9AAddpvap5"
      }
    },
    {
      "cell_type": "code",
      "source": [
        "lista2 = ['Victor', 2, 5, 6, True]\n",
        "lista2"
      ],
      "metadata": {
        "colab": {
          "base_uri": "https://localhost:8080/"
        },
        "id": "2UbQWKIzvfmZ",
        "outputId": "d0342a9b-1550-4de3-ed1d-34b1e2d0ad3a"
      },
      "execution_count": null,
      "outputs": [
        {
          "output_type": "execute_result",
          "data": {
            "text/plain": [
              "['Victor', 2, 5, 6, True]"
            ]
          },
          "metadata": {},
          "execution_count": 47
        }
      ]
    },
    {
      "cell_type": "markdown",
      "source": [
        "#### Consultando la cantidad de memoria ocupada por estructura"
      ],
      "metadata": {
        "id": "JHC2-yZIh31r"
      }
    },
    {
      "cell_type": "code",
      "source": [
        "memoria_lista = sys.getsizeof(lista1)\n",
        "memoria_arreglo = sys.getsizeof(arreglo)\n",
        "\n",
        "print(f\"Memoria ocupada por la lista: {memoria_lista} bytes\")\n",
        "print(f\"Memoria ocupada por el array: {memoria_arreglo} bytes\")"
      ],
      "metadata": {
        "colab": {
          "base_uri": "https://localhost:8080/"
        },
        "id": "vGMyVxqxh9D0",
        "outputId": "4337e38a-42d8-4cc1-fc69-06faea230e7c"
      },
      "execution_count": null,
      "outputs": [
        {
          "output_type": "stream",
          "name": "stdout",
          "text": [
            "Memoria ocupada por la lista: 136 bytes\n",
            "Memoria ocupada por el array: 192 bytes\n"
          ]
        }
      ]
    },
    {
      "cell_type": "markdown",
      "source": [
        "#### **Otros métodos de Numpy**"
      ],
      "metadata": {
        "id": "U7T4g6FGwdrA"
      }
    },
    {
      "cell_type": "code",
      "source": [
        "print(\"Shape:\",         arreglo.shape)    #Dimensiones\n",
        "print(\"Dimensiones:\",   arreglo.ndim)     #Numero de ejes\n",
        "print(\"Tamaño:\",        arreglo.size)     #Total de elementos\n",
        "print(\"Tipo dato:\",     arreglo.dtype)    #Tipo almacenado\n",
        "print(\"Bytes/elem:\",    arreglo.itemsize) #Tamaño en bytes de cada elemento"
      ],
      "metadata": {
        "colab": {
          "base_uri": "https://localhost:8080/"
        },
        "id": "6mbIabZOwiyX",
        "outputId": "e2b2ee38-dd35-4a9b-a9c7-49e7ef52d6cd"
      },
      "execution_count": null,
      "outputs": [
        {
          "output_type": "stream",
          "name": "stdout",
          "text": [
            "Shape: (10,)\n",
            "Dimensiones: 1\n",
            "Tamaño: 10\n",
            "Tipo dato: int64\n",
            "Bytes/elem: 8\n"
          ]
        }
      ]
    },
    {
      "cell_type": "markdown",
      "source": [
        "#### **Obteniendo el Promedio del Arreglo**"
      ],
      "metadata": {
        "id": "KgohLwnwxMeP"
      }
    },
    {
      "cell_type": "code",
      "source": [
        "promedio = np.mean(lista1)\n",
        "promedio"
      ],
      "metadata": {
        "colab": {
          "base_uri": "https://localhost:8080/"
        },
        "id": "N5Kg6jdGjV7f",
        "outputId": "b4c03c78-8097-44d0-fe69-8e32f34b66da"
      },
      "execution_count": null,
      "outputs": [
        {
          "output_type": "execute_result",
          "data": {
            "text/plain": [
              "np.float64(5.5)"
            ]
          },
          "metadata": {},
          "execution_count": 50
        }
      ]
    },
    {
      "cell_type": "markdown",
      "source": [
        "#### **Transformando el arreglo de Int a Float**"
      ],
      "metadata": {
        "id": "eAyXDZKAxpw2"
      }
    },
    {
      "cell_type": "markdown",
      "source": [
        "El metodo astype() transforma los elementos del arreglo a un tipo determinado de dato numerico"
      ],
      "metadata": {
        "id": "skHiJLKRyKKO"
      }
    },
    {
      "cell_type": "code",
      "source": [
        "new_arreglo = arreglo.astype(np.float32)\n",
        "new_arreglo"
      ],
      "metadata": {
        "colab": {
          "base_uri": "https://localhost:8080/"
        },
        "id": "xy62ko5Fxike",
        "outputId": "699cc578-ed78-4166-c598-938bb78a0182"
      },
      "execution_count": null,
      "outputs": [
        {
          "output_type": "execute_result",
          "data": {
            "text/plain": [
              "array([ 1.,  2.,  3.,  4.,  5.,  6.,  7.,  8.,  9., 10.], dtype=float32)"
            ]
          },
          "metadata": {},
          "execution_count": 51
        }
      ]
    },
    {
      "cell_type": "code",
      "source": [
        "new_arreglo.dtype"
      ],
      "metadata": {
        "colab": {
          "base_uri": "https://localhost:8080/"
        },
        "id": "Q66dA4R2ymAu",
        "outputId": "c9dc1f83-efdb-4740-fb38-ba8fb9e2b60f"
      },
      "execution_count": null,
      "outputs": [
        {
          "output_type": "execute_result",
          "data": {
            "text/plain": [
              "dtype('float32')"
            ]
          },
          "metadata": {},
          "execution_count": 52
        }
      ]
    },
    {
      "cell_type": "code",
      "source": [
        "mediana = np.median(lista1)\n",
        "mediana"
      ],
      "metadata": {
        "colab": {
          "base_uri": "https://localhost:8080/"
        },
        "id": "ri59S-yojnb_",
        "outputId": "3f560db2-6f62-4181-918a-c4c2e2dacea6"
      },
      "execution_count": null,
      "outputs": [
        {
          "output_type": "execute_result",
          "data": {
            "text/plain": [
              "np.float64(5.5)"
            ]
          },
          "metadata": {},
          "execution_count": 53
        }
      ]
    },
    {
      "cell_type": "code",
      "source": [
        "promedio = np.mean(arreglo)\n",
        "promedio"
      ],
      "metadata": {
        "colab": {
          "base_uri": "https://localhost:8080/"
        },
        "id": "ibXMd1GWjPiB",
        "outputId": "4a91ecd6-c024-42cc-e849-77c6a185e81c"
      },
      "execution_count": null,
      "outputs": [
        {
          "output_type": "execute_result",
          "data": {
            "text/plain": [
              "np.float64(5.5)"
            ]
          },
          "metadata": {},
          "execution_count": 54
        }
      ]
    },
    {
      "cell_type": "markdown",
      "source": [
        "#### **Aplicando el Paquete Random**\n",
        "Se genera una lista de numeros enteros aleatorios, que van desde 1 al 100"
      ],
      "metadata": {
        "id": "bvUGyIVJz808"
      }
    },
    {
      "cell_type": "code",
      "source": [
        "np.random.rand() # genera numeros aleatorios del rango [0,1]"
      ],
      "metadata": {
        "colab": {
          "base_uri": "https://localhost:8080/"
        },
        "id": "V4MIz2980FYL",
        "outputId": "dbae69b7-3d88-48e4-94c6-85dca8b6a62f"
      },
      "execution_count": null,
      "outputs": [
        {
          "output_type": "execute_result",
          "data": {
            "text/plain": [
              "0.09869079301120975"
            ]
          },
          "metadata": {},
          "execution_count": 55
        }
      ]
    },
    {
      "cell_type": "code",
      "source": [
        "np.random.rand(5) # genera numeros aleatorios (n cantidad)"
      ],
      "metadata": {
        "colab": {
          "base_uri": "https://localhost:8080/"
        },
        "id": "DpckFmoX0_li",
        "outputId": "3bacf49f-39ae-45d5-9175-7bb060ebc040"
      },
      "execution_count": null,
      "outputs": [
        {
          "output_type": "execute_result",
          "data": {
            "text/plain": [
              "array([0.35077546, 0.83147016, 0.51912038, 0.67194656, 0.65617898])"
            ]
          },
          "metadata": {},
          "execution_count": 56
        }
      ]
    },
    {
      "cell_type": "code",
      "source": [
        "np.random.rand(10,4)"
      ],
      "metadata": {
        "colab": {
          "base_uri": "https://localhost:8080/"
        },
        "id": "AIhyCRp80M_D",
        "outputId": "81712a81-9a82-4e25-d97f-0a0eec47a212"
      },
      "execution_count": null,
      "outputs": [
        {
          "output_type": "execute_result",
          "data": {
            "text/plain": [
              "array([[0.84478399, 0.56513066, 0.60218098, 0.87661029],\n",
              "       [0.52340773, 0.18828184, 0.60810737, 0.03374543],\n",
              "       [0.78837611, 0.73480043, 0.60251742, 0.73708264],\n",
              "       [0.97954833, 0.26670741, 0.79926652, 0.96564479],\n",
              "       [0.85183299, 0.90781745, 0.58710611, 0.83315088],\n",
              "       [0.33594284, 0.88505737, 0.46028452, 0.81521436],\n",
              "       [0.42578611, 0.81900848, 0.22420324, 0.49780474],\n",
              "       [0.86839109, 0.23680766, 0.49233275, 0.41575582],\n",
              "       [0.0465299 , 0.75579478, 0.43071678, 0.01758533],\n",
              "       [0.56491668, 0.57599864, 0.73634652, 0.27346649]])"
            ]
          },
          "metadata": {},
          "execution_count": 57
        }
      ]
    },
    {
      "cell_type": "code",
      "source": [
        "np.random.randint(1, 100, 10) # generando 10 numeros eneteros aleatorios del 1 al 100"
      ],
      "metadata": {
        "colab": {
          "base_uri": "https://localhost:8080/"
        },
        "id": "9QJXK8oW0X7T",
        "outputId": "afa04308-bb38-47b5-da1e-e94fdfb3b828"
      },
      "execution_count": null,
      "outputs": [
        {
          "output_type": "execute_result",
          "data": {
            "text/plain": [
              "array([25, 10, 89, 60, 87, 71, 82, 13,  7, 57])"
            ]
          },
          "metadata": {},
          "execution_count": 58
        }
      ]
    },
    {
      "cell_type": "markdown",
      "source": [
        "#### **Metodo Arange**"
      ],
      "metadata": {
        "id": "o66C1cqO2994"
      }
    },
    {
      "cell_type": "code",
      "source": [],
      "metadata": {
        "id": "34KVFwsX2_3x"
      },
      "execution_count": null,
      "outputs": []
    },
    {
      "cell_type": "code",
      "source": [
        "arreglo_3 = np.arange(1,11)\n",
        "arreglo_3"
      ],
      "metadata": {
        "colab": {
          "base_uri": "https://localhost:8080/"
        },
        "id": "w15-CZoV27KA",
        "outputId": "366834fe-abfd-469d-dbfe-24697625c207"
      },
      "execution_count": null,
      "outputs": [
        {
          "output_type": "execute_result",
          "data": {
            "text/plain": [
              "array([ 1,  2,  3,  4,  5,  6,  7,  8,  9, 10])"
            ]
          },
          "metadata": {},
          "execution_count": 60
        }
      ]
    }
  ]
}